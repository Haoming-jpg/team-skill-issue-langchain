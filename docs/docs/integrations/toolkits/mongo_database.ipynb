{
 "cells": [
  {
   "cell_type": "markdown",
   "metadata": {},
   "source": [
    "# MongoDB Database\n",
    "\n",
    "This notebook showcases an agent designed to interact with and query a `MongoDB` database using PyMongo. \n",
    "The agent is similar to [SQL Database](https://python.langchain.com/docs/integrations/toolkits/sql_database).\n",
    "\n",
    "As this agent is in development, currently it only supports one database per instance `MongoDatabase` class using URI. Additionally, all answers may not be correct, and it is not guaranteed that the agent won't perform destructive commands on your database (or in general) given certain questions."
   ]
  },
  {
   "cell_type": "markdown",
   "metadata": {},
   "source": [
    "## Initialization"
   ]
  },
  {
   "cell_type": "code",
   "execution_count": 1,
   "metadata": {},
   "outputs": [],
   "source": [
    "from langchain.agents import create_mongo_agent\n",
    "from langchain.agents.agent_toolkits import MongoDatabaseToolkit\n",
    "from langchain.agents.agent_types import AgentType\n",
    "from langchain.llms.openai import OpenAI\n",
    "from langchain.utilities.mongo_database import MongoDatabase\n",
    "\n",
    "db = MongoDatabase.from_uri(\"mongodb://localhost:27017/my_db\")\n",
    "db._client[\"my_db\"][\"my_collection\"].insert_many(\n",
    "    [\n",
    "        {\"text\": \"Hello, world!\", \"language\": \"en\"},\n",
    "        {\"text\": \"Bonjour, monde!\", \"language\": \"fr\"},\n",
    "        {\"text\": \"Hola, mundo!\", \"language\": \"es\"},\n",
    "        {\"text\": \"Hallo, Welt!\", \"language\": \"de\"},\n",
    "        {\"text\": \"Ciao, mondo!\", \"language\": \"it\"},\n",
    "        {\"text\": \"Olá, mundo!\", \"language\": \"pt\"},\n",
    "        {\"text\": \"Привет, мир!\", \"language\": \"ru\"},\n",
    "        {\"text\": \"你好，世界！\", \"language\": \"zh\"},\n",
    "        {\"text\": \"こんにちは世界！\", \"language\": \"ja\"},\n",
    "        {\"text\": \"안녕, 세상아!\", \"language\": \"ko\"},\n",
    "    ]\n",
    ")\n",
    "# insert more documents if you would like\n",
    "toolkit = MongoDatabaseToolkit(db=db, llm=OpenAI(temperature=0))"
   ]
  },
  {
   "cell_type": "markdown",
   "metadata": {},
   "source": [
    "## Using `ZERO_SHOT_REACT_DESCRIPTION`\n",
    "\n",
    "This shows how to initialize the agent using the `ZERO_SHOT_REACT_DESCRIPTION` agent type."
   ]
  },
  {
   "cell_type": "code",
   "execution_count": 2,
   "metadata": {},
   "outputs": [],
   "source": [
    "agent_executor = create_mongo_agent(\n",
    "    llm=OpenAI(temperature=0),\n",
    "    toolkit=toolkit,\n",
    "    verbose=True,\n",
    "    agent_type=AgentType.ZERO_SHOT_REACT_DESCRIPTION,\n",
    ")"
   ]
  },
  {
   "cell_type": "markdown",
   "metadata": {},
   "source": [
    "## Using OpenAI Functions\n",
    "\n",
    "This shows how to initialize the agent using the `OPENAI_FUNCTIONS` agent type. Note that this is an alternative to the above."
   ]
  },
  {
   "cell_type": "code",
   "execution_count": null,
   "metadata": {},
   "outputs": [],
   "source": [
    "# agent_executor = create_sql_agent(\n",
    "#     llm=ChatOpenAI(temperature=0, model=\"gpt-3.5-turbo-0613\"),\n",
    "#     toolkit=toolkit,\n",
    "#     verbose=True,\n",
    "#     agent_type=AgentType.OPENAI_FUNCTIONS\n",
    "# )"
   ]
  },
  {
   "cell_type": "markdown",
   "metadata": {},
   "source": [
    "## Example: querying documents"
   ]
  },
  {
   "cell_type": "code",
   "execution_count": 3,
   "metadata": {},
   "outputs": [
    {
     "name": "stdout",
     "output_type": "stream",
     "text": [
      "\n",
      "\n",
      "\u001b[1m> Entering new AgentExecutor chain...\u001b[0m\n",
      "\u001b[32;1m\u001b[1;3mAction: mongo_db_list\n",
      "Action Input: \u001b[0m\n",
      "Observation: \u001b[36;1m\u001b[1;3mmy_collection\u001b[0m\n",
      "Thought:\u001b[32;1m\u001b[1;3m I should check the schema of my_collection\n",
      "Action: mongo_db_schema\n",
      "Action Input: my_collection\u001b[0m\n",
      "Observation: \u001b[33;1m\u001b[1;3mCollection Name: my_collection\n",
      "\n",
      "3 sample documents from my_collection:\n",
      "{'_id': ObjectId('65650d24fd0c16012a7ed210'),\n",
      " 'language': 'en',\n",
      " 'text': 'Hello, world!'}\n",
      "{'_id': ObjectId('65650d24fd0c16012a7ed211'),\n",
      " 'language': 'fr',\n",
      " 'text': 'Bonjour, monde!'}\n",
      "{'_id': ObjectId('65650d24fd0c16012a7ed212'),\n",
      " 'language': 'es',\n",
      " 'text': 'Hola, mundo!'}\n",
      "\u001b[0m\n",
      "Thought:\u001b[32;1m\u001b[1;3m I should query the documents with language field equal to 'fr'\n",
      "Action: mongo_db_query\n",
      "Action Input: db.my_collection.find({'language': 'fr'}).limit(10)\u001b[0m\n",
      "Observation: \u001b[38;5;200m\u001b[1;3mResult:\n",
      "{'_id': ObjectId('65650d24fd0c16012a7ed211'),\n",
      " 'language': 'fr',\n",
      " 'text': 'Bonjour, monde!'}\n",
      "{'_id': ObjectId('65650d2bfd0c16012a7ed21c'),\n",
      " 'language': 'fr',\n",
      " 'text': 'Bonjour, monde!'}\n",
      "{'_id': ObjectId('65650f9af8d68bbbc66c0c2e'),\n",
      " 'language': 'fr',\n",
      " 'text': 'Bonjour, monde!'}\n",
      "{'_id': ObjectId('656510ddf351300b9c26690c'),\n",
      " 'language': 'fr',\n",
      " 'text': 'Bonjour, monde!'}\n",
      "{'_id': ObjectId('65651b16b16e9f51a2df5856'),\n",
      " 'language': 'fr',\n",
      " 'text': 'Bonjour, monde!'}\n",
      "{'_id': ObjectId('65651b4e1b66b2ae39ced4a6'),\n",
      " 'language': 'fr',\n",
      " 'text': 'Bonjour, monde!'}\u001b[0m\n",
      "Thought:\u001b[32;1m\u001b[1;3m I now know the final answer\n",
      "Final Answer: Bonjour, monde!\u001b[0m\n",
      "\n",
      "\u001b[1m> Finished chain.\u001b[0m\n"
     ]
    },
    {
     "data": {
      "text/plain": [
       "'Bonjour, monde!'"
      ]
     },
     "execution_count": 3,
     "metadata": {},
     "output_type": "execute_result"
    }
   ],
   "source": [
    "agent_executor.run(\"Find hello world in french\")"
   ]
  }
 ],
 "metadata": {
  "kernelspec": {
   "display_name": ".venv",
   "language": "python",
   "name": "python3"
  },
  "language_info": {
   "codemirror_mode": {
    "name": "ipython",
    "version": 3
   },
   "file_extension": ".py",
   "mimetype": "text/x-python",
   "name": "python",
   "nbconvert_exporter": "python",
   "pygments_lexer": "ipython3",
   "version": "3.11.5"
  }
 },
 "nbformat": 4,
 "nbformat_minor": 2
}
